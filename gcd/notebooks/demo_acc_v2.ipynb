{
 "cells": [
  {
   "cell_type": "code",
   "execution_count": 1,
   "metadata": {},
   "outputs": [
    {
     "name": "stderr",
     "output_type": "stream",
     "text": [
      "/work/khan/envs/OSRR/lib/python3.7/site-packages/sklearn/utils/linear_assignment_.py:22: FutureWarning: The linear_assignment_ module is deprecated in 0.21 and will be removed from 0.23. Use scipy.optimize.linear_sum_assignment instead.\n",
      "  FutureWarning)\n"
     ]
    }
   ],
   "source": [
    "\n",
    "import os\n",
    "import sys\n",
    "module_path = os.path.abspath(os.path.join('..'))\n",
    "if module_path not in sys.path:\n",
    "    sys.path.append(module_path)\n",
    "from project_utils.cluster_and_log_utils import split_cluster_acc_v2\n",
    "import numpy as np"
   ]
  },
  {
   "cell_type": "code",
   "execution_count": 4,
   "metadata": {},
   "outputs": [
    {
     "name": "stdout",
     "output_type": "stream",
     "text": [
      "0.85 0.8 0.9 {2: 0, 1: 1, 0: 2, 3: 3}\n"
     ]
    }
   ],
   "source": [
    "gt_labels = [0]*5 + [1]*5 + [2]*5 + [3]*5\n",
    "gt_labels = np.array(gt_labels)\n",
    "mask = gt_labels<2\n",
    "preds = [2]*4 +[0]*1 + [1]*4 + [3]*1 + [0]*4 + [3]*1 +[3]*5\n",
    "#   gt= [0]*4 +[0]*1 + [1]*4 + [1]*1 + [2]*4 + [2]*1 +[3]*5\n",
    "preds = np.array(preds)\n",
    "# print(mask)\n",
    "total_acc, old_acc, new_acc, ind_map = split_cluster_acc_v2(gt_labels, preds, mask)\n",
    "print(total_acc, old_acc, new_acc, ind_map)\n",
    "\n",
    "#   0 1 2 3\n",
    "# 0 1   4\n",
    "# 1   4\n",
    "# 2 4\n",
    "# 3   1 1 5\n",
    "\n",
    "# pred->gt\n",
    "# 0 2\n",
    "# 1 1\n",
    "# 2 0\n",
    "# 3 3\n",
    "\n",
    "# old: (4+4)/(1+4+4+1)=0.8\n",
    "# new: (4+5)/(4+1+5) =0.9\n"
   ]
  }
 ],
 "metadata": {
  "interpreter": {
   "hash": "85fa6092d3f328f8d4c6de23f007296d2f286c08589e1758856caca8e98c4907"
  },
  "kernelspec": {
   "display_name": "Python 3.7.11",
   "language": "python",
   "name": "python3"
  },
  "language_info": {
   "codemirror_mode": {
    "name": "ipython",
    "version": 3
   },
   "file_extension": ".py",
   "mimetype": "text/x-python",
   "name": "python",
   "nbconvert_exporter": "python",
   "pygments_lexer": "ipython3",
   "version": "3.7.11"
  },
  "orig_nbformat": 4
 },
 "nbformat": 4,
 "nbformat_minor": 2
}
